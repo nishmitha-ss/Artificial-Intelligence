{
 "cells": [
  {
   "cell_type": "code",
   "execution_count": 40,
   "id": "33c79aa3",
   "metadata": {},
   "outputs": [
    {
     "name": "stdout",
     "output_type": "stream",
     "text": [
      "Vocabulary:  0123456789+- \n",
      "Number of features: 13\n"
     ]
    }
   ],
   "source": [
    "import numpy as np\n",
    "import tensorflow as tf\n",
    "\n",
    "from tensorflow.keras.models import Sequential\n",
    "from tensorflow.keras.layers import Dense, Dropout, SimpleRNN, RepeatVector, TimeDistributed\n",
    "from tensorflow.keras.callbacks import EarlyStopping, LambdaCallback\n",
    "\n",
    "vocabulary ='0123456789+- '\n",
    "print('Vocabulary: ', vocabulary)\n",
    "num_features = len(vocabulary)   \n",
    "print('Number of features:', num_features)   \n",
    "\n",
    "\n",
    "def generate_data():\n",
    "    first_num = np.arange(0,100,1)\n",
    "    second_num = np.arange(0,100,1) \n",
    "    query=[]\n",
    "    answer=[]\n",
    "    for i in first_num:\n",
    "        for j in second_num:\n",
    "            #Query \n",
    "            expression = str(i) + '+' + str(j)\n",
    "            expression= expression.ljust(5)\n",
    "            query.append(expression)\n",
    "            expression = str(i) + '-' + str(j)\n",
    "            expression= expression.ljust(5)\n",
    "            query.append(expression)\n",
    "            \n",
    "            #Answers\n",
    "            result = (i+j)\n",
    "            result= f'{result:+}'\n",
    "            result=str(result.ljust(4))\n",
    "            answer.append(result)\n",
    "            result =(i-j)\n",
    "            result= f'{result:+}'\n",
    "            result=str(result.ljust(4))\n",
    "            answer.append(result)        \n",
    "    return query,answer\n"
   ]
  },
  {
   "cell_type": "code",
   "execution_count": 41,
   "id": "fb4a9d0f",
   "metadata": {},
   "outputs": [],
   "source": [
    "from tensorflow.keras.utils import to_categorical\n",
    "from sklearn.preprocessing import LabelEncoder\n",
    "def one_hot_encoding(x,y):\n",
    "    alphabets = ['0','1','2','3','4','5','6','7','8','9','+','-',' ']\n",
    "    char_to_int = dict((c, i) for i, c in enumerate(alphabets))\n",
    "    int_to_char = dict((i, c) for i, c in enumerate(alphabets))\n",
    "    \n",
    "    #One-hot Encoding for x\n",
    "    one_hot_x = []\n",
    "    for i in x:\n",
    "        vec_x = [char_to_int[char] for char in i]\n",
    "        encode_x = list()\n",
    "        for value_x in vec_x:\n",
    "            x_value = [0 for _ in range(len(alphabets))]\n",
    "            x_value[value_x] = 1\n",
    "            encode_x.append(x_value)\n",
    "        one_hot_x.append(encode_x)\n",
    "    \n",
    "    #One-hot Encoding for y        \n",
    "    one_hot_y= []\n",
    "    for j in y:\n",
    "        vec_y = [char_to_int[char] for char in j]\n",
    "        encode_y = list()\n",
    "        for value_y in vec_y:\n",
    "            y_value = [0 for _ in range(len(alphabets))]\n",
    "            y_value[value_y] = 1\n",
    "            encode_y.append(y_value)\n",
    "        one_hot_y.append(encode_y)\n",
    "    \n",
    "    return one_hot_x, one_hot_y"
   ]
  },
  {
   "cell_type": "code",
   "execution_count": 42,
   "id": "5418d73c",
   "metadata": {},
   "outputs": [],
   "source": [
    "from tensorflow.keras import Sequential\n",
    "from tensorflow.keras.layers import LSTM, RepeatVector, Dense\n",
    "from tensorflow.keras.optimizers import Adam\n",
    "from tensorflow.keras.callbacks import LearningRateScheduler\n",
    "\n",
    "def build_model():\n",
    "    model = Sequential()\n",
    "    # Encode the input using LSTM, producing an output of size 256\n",
    "    model.add(LSTM(256, input_shape=(5, 13), return_sequences=False))\n",
    "    \n",
    "    #RepeatVector(4) because the maximum length of output is 4.Providing input for decoder RNN\n",
    "    model.add(RepeatVector(4))\n",
    "    \n",
    "    #Decoder RNN layer\n",
    "    model.add(LSTM(256, return_sequences=True))\n",
    "\n",
    "    model.add(Dense(13, activation=\"softmax\"))\n",
    "\n",
    "    model.compile(\n",
    "        optimizer=Adam(learning_rate=0.001),\n",
    "        loss=\"categorical_crossentropy\",\n",
    "        metrics=[\"accuracy\"])\n",
    "    return model"
   ]
  },
  {
   "cell_type": "code",
   "execution_count": 43,
   "id": "9e05f22b",
   "metadata": {},
   "outputs": [],
   "source": [
    "from sklearn.utils import shuffle\n",
    "\n",
    "x,y = generate_data()\n",
    "x = np.array(x)\n",
    "y = np.array(y)\n",
    "X_shuffled,y_shuffled = shuffle(x, y, random_state=0)\n",
    "X,Y = one_hot_encoding(X_shuffled,y_shuffled)\n",
    "\n",
    "#70% of the data  -train data\n",
    "train_x = X[:14000]\n",
    "train_y = Y[:14000]\n",
    "train_x = np.array(train_x)\n",
    "train_y = np.array(train_y)\n",
    "\n",
    "#15% of data - validation data\n",
    "val_x = X[14000:17000]\n",
    "val_y = Y[14000:17000]         \n",
    "val_x = np.array(val_x)\n",
    "val_y = np.array(val_y)\n",
    "\n",
    "#15% of data - test data\n",
    "test_x = X[17000:]\n",
    "test_y = Y[17000:]\n",
    "test_x = np.array(test_x)\n",
    "test_y = np.array(test_y)\n"
   ]
  },
  {
   "cell_type": "code",
   "execution_count": 44,
   "id": "a2fdcfc9",
   "metadata": {},
   "outputs": [
    {
     "name": "stdout",
     "output_type": "stream",
     "text": [
      "Original query dataset(x) shape: (20000,)\n",
      "Original answer dataset(y) shape: (20000,)\n",
      "X train data shape: (14000, 5, 13)\n",
      "Y train data sahpe: (14000, 4, 13)\n",
      "X validation data shape: (3000, 5, 13)\n",
      "Y validation data sahpe: (3000, 4, 13)\n",
      "X test data shape: (3000, 5, 13)\n",
      "Y test data sahpe: (3000, 4, 13)\n"
     ]
    }
   ],
   "source": [
    "print(\"Original query dataset(x) shape:\", x.shape)\n",
    "print(\"Original answer dataset(y) shape:\", y.shape)\n",
    "print(\"X train data shape:\", train_x.shape)\n",
    "print(\"Y train data sahpe:\", train_y.shape)\n",
    "print(\"X validation data shape:\", val_x.shape)\n",
    "print(\"Y validation data sahpe:\", val_y.shape)\n",
    "print(\"X test data shape:\", test_x.shape)\n",
    "print(\"Y test data sahpe:\", test_y.shape)"
   ]
  },
  {
   "cell_type": "code",
   "execution_count": 45,
   "id": "b50c8ae7",
   "metadata": {},
   "outputs": [
    {
     "name": "stdout",
     "output_type": "stream",
     "text": [
      "Epoch 1/30\n",
      "438/438 [==============================] - 19s 34ms/step - loss: 1.4020 - accuracy: 0.5062 - val_loss: 1.1657 - val_accuracy: 0.5833\n",
      "Epoch 2/30\n",
      "438/438 [==============================] - 14s 31ms/step - loss: 1.0562 - accuracy: 0.6136 - val_loss: 0.9756 - val_accuracy: 0.6498\n",
      "Epoch 3/30\n",
      "438/438 [==============================] - 14s 31ms/step - loss: 0.9350 - accuracy: 0.6563 - val_loss: 0.8716 - val_accuracy: 0.6839\n",
      "Epoch 4/30\n",
      "438/438 [==============================] - 14s 32ms/step - loss: 0.8581 - accuracy: 0.6819 - val_loss: 0.8540 - val_accuracy: 0.6702\n",
      "Epoch 5/30\n",
      "438/438 [==============================] - 14s 32ms/step - loss: 0.7973 - accuracy: 0.7018 - val_loss: 0.7874 - val_accuracy: 0.7057\n",
      "Epoch 6/30\n",
      "438/438 [==============================] - 14s 32ms/step - loss: 0.7562 - accuracy: 0.7162 - val_loss: 0.7419 - val_accuracy: 0.7210\n",
      "Epoch 7/30\n",
      "438/438 [==============================] - 14s 32ms/step - loss: 0.7270 - accuracy: 0.7256 - val_loss: 0.7240 - val_accuracy: 0.7242\n",
      "Epoch 8/30\n",
      "438/438 [==============================] - 14s 32ms/step - loss: 0.6997 - accuracy: 0.7332 - val_loss: 0.7462 - val_accuracy: 0.7099\n",
      "Epoch 9/30\n",
      "438/438 [==============================] - 14s 32ms/step - loss: 0.6854 - accuracy: 0.7379 - val_loss: 0.6629 - val_accuracy: 0.7495\n",
      "Epoch 10/30\n",
      "438/438 [==============================] - 14s 32ms/step - loss: 0.6541 - accuracy: 0.7516 - val_loss: 0.6441 - val_accuracy: 0.7524\n",
      "Epoch 11/30\n",
      "438/438 [==============================] - 14s 32ms/step - loss: 0.6411 - accuracy: 0.7568 - val_loss: 0.6265 - val_accuracy: 0.7629\n",
      "Epoch 12/30\n",
      "438/438 [==============================] - 14s 33ms/step - loss: 0.6228 - accuracy: 0.7635 - val_loss: 0.6239 - val_accuracy: 0.7602\n",
      "Epoch 13/30\n",
      "438/438 [==============================] - 14s 32ms/step - loss: 0.6003 - accuracy: 0.7720 - val_loss: 0.5875 - val_accuracy: 0.7736\n",
      "Epoch 14/30\n",
      "438/438 [==============================] - 14s 32ms/step - loss: 0.5379 - accuracy: 0.7967 - val_loss: 0.5281 - val_accuracy: 0.7932\n",
      "Epoch 15/30\n",
      "438/438 [==============================] - 14s 32ms/step - loss: 0.4558 - accuracy: 0.8308 - val_loss: 0.4223 - val_accuracy: 0.8491\n",
      "Epoch 16/30\n",
      "438/438 [==============================] - 14s 32ms/step - loss: 0.3662 - accuracy: 0.8709 - val_loss: 0.3351 - val_accuracy: 0.8792\n",
      "Epoch 17/30\n",
      "438/438 [==============================] - 14s 32ms/step - loss: 0.2770 - accuracy: 0.9081 - val_loss: 0.2759 - val_accuracy: 0.9092\n",
      "Epoch 18/30\n",
      "438/438 [==============================] - 15s 33ms/step - loss: 0.2185 - accuracy: 0.9289 - val_loss: 0.2124 - val_accuracy: 0.9247\n",
      "Epoch 19/30\n",
      "438/438 [==============================] - 14s 33ms/step - loss: 0.1526 - accuracy: 0.9586 - val_loss: 0.1350 - val_accuracy: 0.9606\n",
      "Epoch 20/30\n",
      "438/438 [==============================] - 14s 33ms/step - loss: 0.1313 - accuracy: 0.9641 - val_loss: 0.1257 - val_accuracy: 0.9655\n",
      "Epoch 21/30\n",
      "438/438 [==============================] - 14s 32ms/step - loss: 0.0953 - accuracy: 0.9760 - val_loss: 0.1043 - val_accuracy: 0.9686\n",
      "Epoch 22/30\n",
      "438/438 [==============================] - 14s 32ms/step - loss: 0.1064 - accuracy: 0.9704 - val_loss: 0.0717 - val_accuracy: 0.9837\n",
      "Epoch 23/30\n",
      "438/438 [==============================] - 14s 32ms/step - loss: 0.0542 - accuracy: 0.9898 - val_loss: 0.0543 - val_accuracy: 0.9883\n",
      "Epoch 24/30\n",
      "438/438 [==============================] - 14s 31ms/step - loss: 0.0746 - accuracy: 0.9782 - val_loss: 0.0809 - val_accuracy: 0.9733\n",
      "Epoch 25/30\n",
      "438/438 [==============================] - 14s 32ms/step - loss: 0.0501 - accuracy: 0.9875 - val_loss: 0.0358 - val_accuracy: 0.9924\n",
      "Epoch 26/30\n",
      "438/438 [==============================] - 14s 32ms/step - loss: 0.0516 - accuracy: 0.9864 - val_loss: 0.0883 - val_accuracy: 0.9710\n",
      "Epoch 27/30\n",
      "438/438 [==============================] - 14s 32ms/step - loss: 0.0446 - accuracy: 0.9884 - val_loss: 0.0285 - val_accuracy: 0.9951\n",
      "Epoch 28/30\n",
      "438/438 [==============================] - 14s 32ms/step - loss: 0.0660 - accuracy: 0.9821 - val_loss: 0.0273 - val_accuracy: 0.9939\n",
      "Epoch 29/30\n",
      "438/438 [==============================] - 14s 32ms/step - loss: 0.0143 - accuracy: 0.9989 - val_loss: 0.0202 - val_accuracy: 0.9962\n",
      "Epoch 30/30\n",
      "438/438 [==============================] - 14s 32ms/step - loss: 0.0540 - accuracy: 0.9828 - val_loss: 0.0285 - val_accuracy: 0.9940\n"
     ]
    }
   ],
   "source": [
    "actual_model = build_model()\n",
    "actual_history = actual_model.fit(train_x, train_y, epochs=30, batch_size=32, validation_data=(val_x,val_y))"
   ]
  },
  {
   "cell_type": "code",
   "execution_count": 46,
   "id": "d2f024ff",
   "metadata": {},
   "outputs": [
    {
     "name": "stdout",
     "output_type": "stream",
     "text": [
      "94/94 [==============================] - 1s 11ms/step - loss: 0.0251 - accuracy: 0.9948\n",
      "Loss: 0.02510182373225689\n",
      "Accuracy: 0.9947500228881836\n"
     ]
    }
   ],
   "source": [
    "actual_result = actual_model.evaluate(test_x, test_y)\n",
    "print(\"Loss:\", actual_result[0])\n",
    "print(\"Accuracy:\", actual_result[1])"
   ]
  },
  {
   "cell_type": "code",
   "execution_count": 47,
   "id": "e3d0d9b3",
   "metadata": {},
   "outputs": [],
   "source": [
    "#Reversing the data set\n",
    "x,y = generate_data()\n",
    "X_shuffled,y_shuffled = shuffle(x, y, random_state=0)\n",
    "X,Y = one_hot_encoding(X_shuffled,y_shuffled)\n",
    "reversed_x, reversed_y = np.flip(X, axis=1), np.flip(Y, axis=1)\n",
    "\n",
    "#70% of the data  -train data\n",
    "reverse_train_x = X[:14000]\n",
    "reverse_train_y = Y[:14000]\n",
    "reverse_train_x = np.array(train_x)\n",
    "reverse_train_y = np.array(train_y)\n",
    "\n",
    "#15% of data - validation data\n",
    "reverse_val_x = X[14000:17000]\n",
    "reverse_val_y = Y[14000:17000]         \n",
    "reverse_val_x = np.array(val_x)\n",
    "reverse_val_y = np.array(val_y)\n",
    "\n",
    "#15% of data - test data\n",
    "reverse_test_x = X[17000:]\n",
    "reverse_test_y = Y[17000:]\n",
    "reverse_test_x = np.array(test_x)\n",
    "reverse_test_y = np.array(test_y)\n"
   ]
  },
  {
   "cell_type": "code",
   "execution_count": 48,
   "id": "3d3541d0",
   "metadata": {},
   "outputs": [
    {
     "name": "stdout",
     "output_type": "stream",
     "text": [
      "Epoch 1/30\n",
      "438/438 [==============================] - 19s 35ms/step - loss: 1.4051 - accuracy: 0.5065 - val_loss: 1.1534 - val_accuracy: 0.5795\n",
      "Epoch 2/30\n",
      "438/438 [==============================] - 15s 34ms/step - loss: 1.0600 - accuracy: 0.6126 - val_loss: 0.9753 - val_accuracy: 0.6457\n",
      "Epoch 3/30\n",
      "438/438 [==============================] - 15s 35ms/step - loss: 0.9324 - accuracy: 0.6577 - val_loss: 0.9022 - val_accuracy: 0.6648\n",
      "Epoch 4/30\n",
      "438/438 [==============================] - 16s 38ms/step - loss: 0.8530 - accuracy: 0.6839 - val_loss: 0.8194 - val_accuracy: 0.7018\n",
      "Epoch 5/30\n",
      "438/438 [==============================] - 15s 35ms/step - loss: 0.8002 - accuracy: 0.7011 - val_loss: 0.7843 - val_accuracy: 0.7027\n",
      "Epoch 6/30\n",
      "438/438 [==============================] - 15s 35ms/step - loss: 0.7651 - accuracy: 0.7120 - val_loss: 0.7389 - val_accuracy: 0.7216\n",
      "Epoch 7/30\n",
      "438/438 [==============================] - 16s 36ms/step - loss: 0.7328 - accuracy: 0.7228 - val_loss: 0.7195 - val_accuracy: 0.7277\n",
      "Epoch 8/30\n",
      "438/438 [==============================] - 16s 36ms/step - loss: 0.7047 - accuracy: 0.7322 - val_loss: 0.6906 - val_accuracy: 0.7362\n",
      "Epoch 9/30\n",
      "438/438 [==============================] - 16s 36ms/step - loss: 0.6845 - accuracy: 0.7408 - val_loss: 0.6684 - val_accuracy: 0.7477\n",
      "Epoch 10/30\n",
      "438/438 [==============================] - 16s 36ms/step - loss: 0.6670 - accuracy: 0.7472 - val_loss: 0.6576 - val_accuracy: 0.7484\n",
      "Epoch 11/30\n",
      "438/438 [==============================] - 16s 36ms/step - loss: 0.6486 - accuracy: 0.7540 - val_loss: 0.6917 - val_accuracy: 0.7404\n",
      "Epoch 12/30\n",
      "438/438 [==============================] - 16s 36ms/step - loss: 0.6206 - accuracy: 0.7655 - val_loss: 0.6153 - val_accuracy: 0.7697\n",
      "Epoch 13/30\n",
      "438/438 [==============================] - 16s 36ms/step - loss: 0.5843 - accuracy: 0.7799 - val_loss: 0.5844 - val_accuracy: 0.7756\n",
      "Epoch 14/30\n",
      "438/438 [==============================] - 16s 36ms/step - loss: 0.5058 - accuracy: 0.8105 - val_loss: 0.4733 - val_accuracy: 0.8190\n",
      "Epoch 15/30\n",
      "438/438 [==============================] - 16s 36ms/step - loss: 0.4101 - accuracy: 0.8513 - val_loss: 0.3442 - val_accuracy: 0.8859\n",
      "Epoch 16/30\n",
      "438/438 [==============================] - 16s 36ms/step - loss: 0.3030 - accuracy: 0.8996 - val_loss: 0.2787 - val_accuracy: 0.9094\n",
      "Epoch 17/30\n",
      "438/438 [==============================] - 16s 36ms/step - loss: 0.2385 - accuracy: 0.9258 - val_loss: 0.2002 - val_accuracy: 0.9422\n",
      "Epoch 18/30\n",
      "438/438 [==============================] - 16s 37ms/step - loss: 0.1642 - accuracy: 0.9556 - val_loss: 0.1696 - val_accuracy: 0.9463\n",
      "Epoch 19/30\n",
      "438/438 [==============================] - 16s 38ms/step - loss: 0.1308 - accuracy: 0.9665 - val_loss: 0.1162 - val_accuracy: 0.9713\n",
      "Epoch 20/30\n",
      "438/438 [==============================] - 16s 36ms/step - loss: 0.1065 - accuracy: 0.9725 - val_loss: 0.1059 - val_accuracy: 0.9699\n",
      "Epoch 21/30\n",
      "438/438 [==============================] - 16s 36ms/step - loss: 0.1125 - accuracy: 0.9680 - val_loss: 0.1313 - val_accuracy: 0.9530\n",
      "Epoch 22/30\n",
      "438/438 [==============================] - 16s 36ms/step - loss: 0.0546 - accuracy: 0.9900 - val_loss: 0.0531 - val_accuracy: 0.9910\n",
      "Epoch 23/30\n",
      "438/438 [==============================] - 16s 36ms/step - loss: 0.0741 - accuracy: 0.9785 - val_loss: 0.1018 - val_accuracy: 0.9636\n",
      "Epoch 24/30\n",
      "438/438 [==============================] - 16s 36ms/step - loss: 0.0607 - accuracy: 0.9850 - val_loss: 0.0470 - val_accuracy: 0.9893\n",
      "Epoch 25/30\n",
      "438/438 [==============================] - 16s 36ms/step - loss: 0.0468 - accuracy: 0.9889 - val_loss: 0.1723 - val_accuracy: 0.9452\n",
      "Epoch 26/30\n",
      "438/438 [==============================] - 16s 36ms/step - loss: 0.0697 - accuracy: 0.9809 - val_loss: 0.0303 - val_accuracy: 0.9948\n",
      "Epoch 27/30\n",
      "438/438 [==============================] - 16s 36ms/step - loss: 0.0248 - accuracy: 0.9958 - val_loss: 0.1124 - val_accuracy: 0.9647\n",
      "Epoch 28/30\n",
      "438/438 [==============================] - 16s 36ms/step - loss: 0.0498 - accuracy: 0.9860 - val_loss: 0.0298 - val_accuracy: 0.9936\n",
      "Epoch 29/30\n",
      "438/438 [==============================] - 16s 36ms/step - loss: 0.0141 - accuracy: 0.9985 - val_loss: 0.0233 - val_accuracy: 0.9954\n",
      "Epoch 30/30\n",
      "438/438 [==============================] - 16s 36ms/step - loss: 0.0791 - accuracy: 0.9762 - val_loss: 0.0525 - val_accuracy: 0.9860\n"
     ]
    }
   ],
   "source": [
    "#Training model with reversed dataset \n",
    "reverse_model = build_model()\n",
    "reversed_history = reverse_model.fit(reverse_train_x, reverse_train_y, \n",
    "                                     epochs=30, \n",
    "                                     batch_size=32,\n",
    "                                     validation_data=(reverse_val_x,reverse_val_y))"
   ]
  },
  {
   "cell_type": "code",
   "execution_count": 49,
   "id": "371eea3c",
   "metadata": {},
   "outputs": [
    {
     "name": "stdout",
     "output_type": "stream",
     "text": [
      "94/94 [==============================] - 1s 12ms/step - loss: 0.0458 - accuracy: 0.9871\n",
      "Loss: 0.04581835865974426\n",
      "Accuracy: 0.9870833158493042\n"
     ]
    }
   ],
   "source": [
    "reverse_result = reverse_model.evaluate(reverse_test_x, reverse_test_y)\n",
    "print(\"Loss:\", reverse_result[0])\n",
    "print(\"Accuracy:\", reverse_result[1])"
   ]
  },
  {
   "cell_type": "code",
   "execution_count": 50,
   "id": "5ad428f9",
   "metadata": {},
   "outputs": [
    {
     "data": {
      "image/png": "[encoded data removed]",
      "text/plain": [
       "<Figure size 432x288 with 1 Axes>"
      ]
     },
     "metadata": {
      "needs_background": "light"
     },
     "output_type": "display_data"
    }
   ],
   "source": [
    "# Plotting accuracy\n",
    "import matplotlib.pyplot as plt\n",
    "plt.clf()\n",
    "normal_accuracy = actual_history.history['accuracy']\n",
    "reversed_accuracy = reversed_history.history['accuracy']\n",
    "epochs = range(1, len(normal_accuracy) + 1)\n",
    "plt.plot(epochs, normal_accuracy, linestyle = '-', label = 'Baseline Accuracy')\n",
    "plt.plot(epochs, reversed_accuracy ,linestyle= '-', label = 'Reversed Accuracy')\n",
    "plt.title('Accuracy for Reversed and Non-reversed Data')\n",
    "plt.xlabel('Epochs')\n",
    "plt.ylabel ('Accuracy')\n",
    "plt.legend()\n",
    "plt.show()"
   ]
  },
  {
   "cell_type": "code",
   "execution_count": 51,
   "id": "50060d3f",
   "metadata": {},
   "outputs": [
    {
     "data": {
      "image/png": "[encoded data removed]",
      "text/plain": [
       "<Figure size 432x288 with 1 Axes>"
      ]
     },
     "metadata": {
      "needs_background": "light"
     },
     "output_type": "display_data"
    }
   ],
   "source": [
    "plt.clf()\n",
    "normal_accuracy = actual_history.history['val_accuracy']\n",
    "reversed_accuracy = reversed_history.history['val_accuracy']\n",
    "epochs = range(1, len(normal_accuracy) + 1)\n",
    "plt.plot(epochs, normal_accuracy, linestyle = '-', label = 'Baseline Accuracy')\n",
    "plt.plot(epochs, reversed_accuracy ,linestyle= '-', label = 'Reversed Accuracy')\n",
    "plt.title('Validation Accuracy for Reversed and Non-reversed Data')\n",
    "plt.xlabel('Epochs')\n",
    "plt.ylabel ('Accuracy')\n",
    "plt.legend()\n",
    "plt.show()"
   ]
  }
 ],
 "metadata": {
  "kernelspec": {
   "display_name": "Python 3 (ipykernel)",
   "language": "python",
   "name": "python3"
  },
  "language_info": {
   "codemirror_mode": {
    "name": "ipython",
    "version": 3
   },
   "file_extension": ".py",
   "mimetype": "text/x-python",
   "name": "python",
   "nbconvert_exporter": "python",
   "pygments_lexer": "ipython3",
   "version": "3.7.11"
  }
 },
 "nbformat": 4,
 "nbformat_minor": 5
}
