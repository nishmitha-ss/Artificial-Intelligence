{
 "cells": [
  {
   "cell_type": "code",
   "execution_count": 10,
   "metadata": {},
   "outputs": [
    {
     "name": "stdout",
     "output_type": "stream",
     "text": [
      "Feature Names: ['MedInc', 'HouseAge', 'AveRooms', 'AveBedrms', 'Population', 'AveOccup', 'Latitude', 'Longitude']\n"
     ]
    }
   ],
   "source": [
    "from sklearn.datasets import fetch_california_housing\n",
    "import pandas as pd\n",
    "raw = fetch_california_housing()\n",
    "x = pd.DataFrame(raw.data,columns=raw.feature_names)\n",
    "y = raw.target\n",
    "# Show feature names\n",
    "print('Feature Names:',list(raw.feature_names))"
   ]
  },
  {
   "cell_type": "code",
   "execution_count": 11,
   "metadata": {},
   "outputs": [
    {
     "name": "stdout",
     "output_type": "stream",
     "text": [
      ".. _california_housing_dataset:\n",
      "\n",
      "California Housing dataset\n",
      "--------------------------\n",
      "\n",
      "**Data Set Characteristics:**\n",
      "\n",
      "    :Number of Instances: 20640\n",
      "\n",
      "    :Number of Attributes: 8 numeric, predictive attributes and the target\n",
      "\n",
      "    :Attribute Information:\n",
      "        - MedInc        median income in block\n",
      "        - HouseAge      median house age in block\n",
      "        - AveRooms      average number of rooms\n",
      "        - AveBedrms     average number of bedrooms\n",
      "        - Population    block population\n",
      "        - AveOccup      average house occupancy\n",
      "        - Latitude      house block latitude\n",
      "        - Longitude     house block longitude\n",
      "\n",
      "    :Missing Attribute Values: None\n",
      "\n",
      "This dataset was obtained from the StatLib repository.\n",
      "http://lib.stat.cmu.edu/datasets/\n",
      "\n",
      "The target variable is the median house value for California districts.\n",
      "\n",
      "This dataset was derived from the 1990 U.S. census, using one row per census\n",
      "block group. A block group is the smallest geographical unit for which the U.S.\n",
      "Census Bureau publishes sample data (a block group typically has a population\n",
      "of 600 to 3,000 people).\n",
      "\n",
      "It can be downloaded/loaded using the\n",
      ":func:`sklearn.datasets.fetch_california_housing` function.\n",
      "\n",
      ".. topic:: References\n",
      "\n",
      "    - Pace, R. Kelley and Ronald Barry, Sparse Spatial Autoregressions,\n",
      "      Statistics and Probability Letters, 33 (1997) 291-297\n",
      "\n"
     ]
    }
   ],
   "source": [
    "# Show dataset description\n",
    "print(raw.DESCR)"
   ]
  },
  {
   "cell_type": "code",
   "execution_count": 12,
   "metadata": {},
   "outputs": [
    {
     "name": "stdout",
     "output_type": "stream",
     "text": [
      "Dimension of X: (20640, 8)\n"
     ]
    }
   ],
   "source": [
    "# Show dimension of X\n",
    "print('Dimension of X:',x.shape)"
   ]
  },
  {
   "cell_type": "code",
   "execution_count": 13,
   "metadata": {},
   "outputs": [
    {
     "name": "stdout",
     "output_type": "stream",
     "text": [
      "Dimension of Y: (20640,)\n"
     ]
    }
   ],
   "source": [
    "# Show dimension of y\n",
    "print('Dimension of Y:',y.shape)"
   ]
  },
  {
   "cell_type": "code",
   "execution_count": 14,
   "metadata": {},
   "outputs": [
    {
     "name": "stdout",
     "output_type": "stream",
     "text": [
      "       MedInc  HouseAge  AveRooms  AveBedrms  Population  AveOccup  Latitude  \\\n",
      "1989   1.9750      52.0  2.800000   0.700000       193.0  4.825000     36.73   \n",
      "256    2.2604      43.0  3.671480   1.184116       836.0  3.018051     37.77   \n",
      "7887   6.2990      17.0  6.478022   1.087912      1387.0  3.810440     33.87   \n",
      "4581   1.7199      17.0  2.518000   1.196000      3051.0  3.051000     34.06   \n",
      "1993   2.2206      50.0  4.622754   1.161677       606.0  3.628743     36.73   \n",
      "...       ...       ...       ...        ...         ...       ...       ...   \n",
      "13123  4.4125      20.0  6.000000   1.045662       712.0  3.251142     38.27   \n",
      "19648  2.9135      27.0  5.349282   0.933014       647.0  3.095694     37.48   \n",
      "9845   3.1977      31.0  3.641221   0.941476       704.0  1.791349     36.58   \n",
      "10799  5.6315      34.0  4.540598   1.064103      1052.0  2.247863     33.62   \n",
      "2732   1.3882      15.0  3.929530   1.100671      1024.0  3.436242     32.80   \n",
      "\n",
      "       Longitude  \n",
      "1989     -119.79  \n",
      "256      -122.21  \n",
      "7887     -118.04  \n",
      "4581     -118.28  \n",
      "1993     -119.81  \n",
      "...          ...  \n",
      "13123    -121.26  \n",
      "19648    -120.89  \n",
      "9845     -121.90  \n",
      "10799    -117.93  \n",
      "2732     -115.56  \n",
      "\n",
      "[14448 rows x 8 columns] \n",
      "\n",
      "        MedInc  HouseAge  AveRooms  AveBedrms  Population  AveOccup  Latitude  \\\n",
      "14740  4.1518      22.0  5.663073   1.075472      1551.0  4.180593     32.58   \n",
      "10101  5.7796      32.0  6.107226   0.927739      1296.0  3.020979     33.92   \n",
      "20566  4.3487      29.0  5.930712   1.026217      1554.0  2.910112     38.65   \n",
      "2670   2.4511      37.0  4.992958   1.316901       390.0  2.746479     33.20   \n",
      "15709  5.0049      25.0  4.319261   1.039578       649.0  1.712401     37.79   \n",
      "...       ...       ...       ...        ...         ...       ...       ...   \n",
      "19681  3.0962      36.0  4.746421   0.930470      1168.0  2.388548     39.15   \n",
      "12156  4.1386       2.0  8.821216   1.414779      2826.0  3.368296     33.66   \n",
      "10211  7.8750      30.0  7.550926   0.981481       523.0  2.421296     33.89   \n",
      "2445   2.0658      34.0  5.938144   1.206186       363.0  3.742268     36.56   \n",
      "17914  4.6761      32.0  5.315152   0.981818       917.0  2.778788     37.36   \n",
      "\n",
      "       Longitude  \n",
      "14740    -117.05  \n",
      "10101    -117.97  \n",
      "20566    -121.84  \n",
      "2670     -115.60  \n",
      "15709    -122.43  \n",
      "...          ...  \n",
      "19681    -121.62  \n",
      "12156    -117.17  \n",
      "10211    -117.91  \n",
      "2445     -119.64  \n",
      "17914    -121.99  \n",
      "\n",
      "[6192 rows x 8 columns] \n",
      "\n",
      " [0.475 1.    2.858 ... 2.893 4.846 0.694] \n",
      "\n",
      " [1.369 2.413 2.007 ... 3.519 0.925 2.983]\n"
     ]
    }
   ],
   "source": [
    "# Split X, y into X_train, X_test, y_train, y_test with 7:3 ratio\n",
    "from sklearn.model_selection import train_test_split\n",
    "from sklearn.preprocessing import StandardScaler\n",
    "std = StandardScaler()\n",
    "x_train, x_test,y_train,y_test = train_test_split(x,y,test_size =0.3, random_state=0)\n",
    "print(x_train,'\\n\\n',x_test,'\\n\\n',y_train,'\\n\\n',y_test)"
   ]
  },
  {
   "cell_type": "code",
   "execution_count": 15,
   "metadata": {},
   "outputs": [
    {
     "data": {
      "text/plain": [
       "LinearRegression()"
      ]
     },
     "execution_count": 15,
     "metadata": {},
     "output_type": "execute_result"
    }
   ],
   "source": [
    "# Build a linear rfrom sklearn.linear_model import LinearRegression\n",
    "from sklearn.linear_model import LinearRegression\n",
    "import numpy as np\n",
    "linReg= LinearRegression()\n",
    "linReg.fit(x_train, y_train)\n"
   ]
  },
  {
   "cell_type": "code",
   "execution_count": 16,
   "metadata": {},
   "outputs": [
    {
     "name": "stdout",
     "output_type": "stream",
     "text": [
      "y_pred: [2.2702672  2.79059912 1.90984782 ... 3.56895295 0.98163812 2.72552317]\n"
     ]
    }
   ],
   "source": [
    "# pridict y_pred from X_test\n",
    "y_pred=linReg.predict(x_test)\n",
    "print('y_pred:', y_pred)"
   ]
  },
  {
   "cell_type": "code",
   "execution_count": 19,
   "metadata": {},
   "outputs": [
    {
     "name": "stdout",
     "output_type": "stream",
     "text": [
      "Coefficient of Features: [ 4.46773975e-01  9.18409990e-03 -1.18116775e-01  6.42290879e-01\n",
      " -9.37026507e-06 -4.08535934e-03 -4.09023312e-01 -4.23419564e-01] \n",
      "\n",
      "Argmax of Coefficient: 2272\n"
     ]
    }
   ],
   "source": [
    "# show coefficients of the features and find the argmax of coefficients\n",
    "print('Coefficient of Features:',linReg.coef_,'\\n')\n",
    "print('Argmax of Coefficient:', np.argmax(y_pred))"
   ]
  },
  {
   "cell_type": "code",
   "execution_count": 18,
   "metadata": {},
   "outputs": [
    {
     "data": {
      "image/png": "[encoded data removed]",
      "text/plain": [
       "<Figure size 432x288 with 1 Axes>"
      ]
     },
     "metadata": {
      "needs_background": "light"
     },
     "output_type": "display_data"
    }
   ],
   "source": [
    "# Draw scatter plots of \n",
    "#             max coefficient feature of X_train - y_train as 'x' marker\n",
    "#             max coefficient feature of X_test - y_test as 'o' marker\n",
    "# xlim(2,10)\n",
    "import matplotlib.pyplot as plt\n",
    "#list(zip(x.columns,linReg.coef_)) can also be used to find Max coefficient feature of x_train\n",
    "plt.scatter(x_train.AveBedrms, y_train, color=\"teal\", marker='x')\n",
    "plt.scatter(x_test.AveBedrms, y_test, color=\"orange\", marker='o')\n",
    "plt.xlim(2,10)\n",
    "plt.show()\n"
   ]
  }
 ],
 "metadata": {
  "kernelspec": {
   "display_name": "Python 3 (ipykernel)",
   "language": "python",
   "name": "python3"
  },
  "language_info": {
   "codemirror_mode": {
    "name": "ipython",
    "version": 3
   },
   "file_extension": ".py",
   "mimetype": "text/x-python",
   "name": "python",
   "nbconvert_exporter": "python",
   "pygments_lexer": "ipython3",
   "version": "3.9.10"
  }
 },
 "nbformat": 4,
 "nbformat_minor": 2
}
