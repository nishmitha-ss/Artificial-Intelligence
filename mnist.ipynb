{
 "cells": [
  {
   "cell_type": "code",
   "execution_count": 1,
   "metadata": {},
   "outputs": [],
   "source": [
    "from mnist import MNIST\n",
    "import os\n",
    "import numpy as np\n",
    "from tensorflow.keras.utils import to_categorical\n",
    "\n",
    "mndata = MNIST('mnist')\n",
    "\n",
    "X_train, y_train = mndata.load_training()\n",
    "X_test, y_test = mndata.load_testing()\n",
    "\n",
    "y_train = to_categorical(y_train, 10)\n",
    "y_test = to_categorical(y_test, 10)\n",
    "\n",
    "X_train=np.array(X_train)\n",
    "y_train=np.array(y_train)\n",
    "X_test=np.array(X_test)\n",
    "y_test=np.array(y_test)"
   ]
  },
  {
   "cell_type": "code",
   "execution_count": 2,
   "metadata": {},
   "outputs": [
    {
     "data": {
      "text/plain": [
       "(10000, 784)"
      ]
     },
     "execution_count": 2,
     "metadata": {},
     "output_type": "execute_result"
    }
   ],
   "source": [
    "np.shape(X_test)"
   ]
  },
  {
   "cell_type": "code",
   "execution_count": 108,
   "metadata": {},
   "outputs": [
    {
     "data": {
      "image/png": "[encoded data removed]",
      "text/plain": [
       "<Figure size 432x288 with 1 Axes>"
      ]
     },
     "metadata": {
      "needs_background": "light"
     },
     "output_type": "display_data"
    },
    {
     "name": "stdout",
     "output_type": "stream",
     "text": [
      "[0. 0. 0. 1. 0. 0. 0. 0. 0. 0.]\n"
     ]
    }
   ],
   "source": [
    "import matplotlib.pyplot as plt\n",
    "import numpy as np\n",
    "\n",
    "id = 7\n",
    "\n",
    "image = np.array(X_train[id], dtype='float')\n",
    "pixels = image.reshape((28, 28))\n",
    "plt.imshow(pixels, cmap='gray')\n",
    "plt.show()\n",
    "\n",
    "#print(X_train[id])\n",
    "print(y_train[id])"
   ]
  },
  {
   "cell_type": "code",
   "execution_count": 48,
   "metadata": {
    "scrolled": false
   },
   "outputs": [
    {
     "name": "stdout",
     "output_type": "stream",
     "text": [
      "Best: 0.898400 using {'batch_size': 64, 'epochs': 10} sgd\n",
      "Best: 0.910733 using {'batch_size': 128, 'epochs': 10} rmsprop\n",
      "Best: 0.903933 using {'batch_size': 256, 'epochs': 10} adam\n",
      "Best: 0.764733 using {'batch_size': 64, 'epochs': 10} adagrad\n"
     ]
    }
   ],
   "source": [
    "#Tuning the hyperparameters for optimizers\n",
    "from keras.layers import Dense \n",
    "from keras.models import Sequential \n",
    "from sklearn.model_selection import GridSearchCV\n",
    "from keras.wrappers.scikit_learn import KerasClassifier\n",
    "import warnings\n",
    "warnings.filterwarnings('ignore')\n",
    "warnings.warn('DelftStack')\n",
    "warnings.warn('Do not show this message')\n",
    "\n",
    "optimizers=['sgd','rmsprop','adam','adagrad']\n",
    "for i in optimizers:\n",
    "    def create_model():\n",
    "        model = Sequential()\n",
    "        model.add(Dense(32, activation='sigmoid', input_shape=(784,)))\n",
    "        model.add(Dense(10, activation='softmax'))\n",
    "        model.compile(loss='categorical_crossentropy',\n",
    "                      optimizer=i,  \n",
    "                      metrics=['accuracy'])\n",
    "        return model\n",
    "\n",
    "    model = KerasClassifier(build_fn=create_model,verbose=0)\n",
    "    batchsize = [64,128,256,512,1024]\n",
    "    epochs = [5,10]\n",
    "    param_grid=dict(batch_size=batchsize,epochs=epochs)\n",
    "    grid = GridSearchCV(estimator=model, param_grid=param_grid, n_jobs=-1, cv=3)\n",
    "    grid_result = grid.fit(X_train, y_train,verbose=0)\n",
    "    print(\"Best: %f using %s\" % (grid_result.best_score_, grid_result.best_params_),i)"
   ]
  },
  {
   "cell_type": "code",
   "execution_count": 99,
   "metadata": {},
   "outputs": [
    {
     "name": "stdout",
     "output_type": "stream",
     "text": [
      "Model: \"sequential_1\"\n",
      "_________________________________________________________________\n",
      " Layer (type)                Output Shape              Param #   \n",
      "=================================================================\n",
      " dense_3 (Dense)             (None, 32)                25120     \n",
      "                                                                 \n",
      " dense_4 (Dense)             (None, 10)                330       \n",
      "                                                                 \n",
      "=================================================================\n",
      "Total params: 25,450\n",
      "Trainable params: 25,450\n",
      "Non-trainable params: 0\n",
      "_________________________________________________________________\n"
     ]
    }
   ],
   "source": [
    "# Neural network\n",
    "model = Sequential()\n",
    "model.add(Dense(32, activation='sigmoid', input_shape=(784,)))\n",
    "model.add(Dense(10, activation='softmax'))\n",
    "model.summary()"
   ]
  },
  {
   "cell_type": "code",
   "execution_count": 51,
   "metadata": {},
   "outputs": [
    {
     "name": "stdout",
     "output_type": "stream",
     "text": [
      "Average accuracy: 0.8687099993228913\n",
      "Test score:  0.34560734033584595\n",
      "Test accuracy:  0.9031999707221985\n"
     ]
    }
   ],
   "source": [
    "# Compiling model for sgd optimizer\n",
    "model.compile(optimizer='sgd',\n",
    "              loss='categorical_crossentropy',   \n",
    "              metrics=['accuracy'])        \n",
    "\n",
    "hist = model.fit(X_train,y_train,\n",
    "                    batch_size=64,\n",
    "                    epochs=10, \n",
    "                    verbose=0)\n",
    "print(\"Average accuracy:\",np.mean(hist.history['accuracy']))\n",
    "result = model.evaluate(X_test, y_test, verbose = 0)\n",
    "print(\"Test score: \", result[0])\n",
    "print(\"Test accuracy: \", result[1])"
   ]
  },
  {
   "cell_type": "code",
   "execution_count": 52,
   "metadata": {},
   "outputs": [
    {
     "name": "stdout",
     "output_type": "stream",
     "text": [
      "Average accuracy: 0.9205466568470001\n",
      "Test score:  0.24513554573059082\n",
      "Test accuracy:  0.927299976348877\n"
     ]
    }
   ],
   "source": [
    "# Compiling model for rmsprop optimizer\n",
    "model.compile(optimizer=\"rmsprop\", \n",
    "              loss='categorical_crossentropy', \n",
    "              metrics=['accuracy'])\n",
    "\n",
    "hist = model.fit(X_train,y_train,\n",
    "                    batch_size=128,\n",
    "                    epochs=10, \n",
    "                    verbose=0)\n",
    "print(\"Average accuracy:\",np.mean(hist.history['accuracy']))\n",
    "result = model.evaluate(X_test, y_test, verbose = 0)\n",
    "print(\"Test score: \", result[0])\n",
    "print(\"Test accuracy: \", result[1])"
   ]
  },
  {
   "cell_type": "code",
   "execution_count": 53,
   "metadata": {},
   "outputs": [
    {
     "name": "stdout",
     "output_type": "stream",
     "text": [
      "Average accuracy: 0.928125\n",
      "Test score:  0.2420876920223236\n",
      "Test accuracy:  0.9283999800682068\n"
     ]
    }
   ],
   "source": [
    "# Compiling model for adam optimizer\n",
    "model.compile(optimizer=\"adam\", \n",
    "              loss='categorical_crossentropy', \n",
    "              metrics=['accuracy'])\n",
    "\n",
    "hist = model.fit(X_train,y_train,\n",
    "                    batch_size=256,\n",
    "                    epochs=10, \n",
    "                    verbose=0)\n",
    "print(\"Average accuracy:\",np.mean(hist.history['accuracy']))\n",
    "result = model.evaluate(X_test, y_test, verbose = 0)\n",
    "print(\"Test score: \", result[0])\n",
    "print(\"Test accuracy: \", result[1])"
   ]
  },
  {
   "cell_type": "code",
   "execution_count": 54,
   "metadata": {},
   "outputs": [
    {
     "name": "stdout",
     "output_type": "stream",
     "text": [
      "Average accuracy: 0.9412133276462555\n",
      "Test score:  0.22500473260879517\n",
      "Test accuracy:  0.9347000122070312\n"
     ]
    }
   ],
   "source": [
    "# Compiling model for adagrad optimizer\n",
    "model.compile(optimizer=\"adagrad\", \n",
    "              loss='categorical_crossentropy', \n",
    "              metrics=['accuracy'])\n",
    "\n",
    "hist = model.fit(X_train,y_train,\n",
    "                    batch_size=64,\n",
    "                    epochs=10, \n",
    "                    verbose=0)\n",
    "print(\"Average accuracy:\",np.mean(hist.history['accuracy']))\n",
    "result = model.evaluate(X_test, y_test, verbose = 0)\n",
    "print(\"Test score: \", result[0])\n",
    "print(\"Test accuracy: \", result[1])"
   ]
  },
  {
   "cell_type": "code",
   "execution_count": null,
   "metadata": {},
   "outputs": [],
   "source": [
    "#adagrad optimizer had the best accuracy compare to others"
   ]
  },
  {
   "cell_type": "code",
   "execution_count": 3,
   "metadata": {},
   "outputs": [],
   "source": [
    "#Splitting training dataset into sub training and validation datasets\n",
    "x_val = X_train[:10000]   #1/6 th of training data\n",
    "partial_x_train = X_train[10000:]\n",
    "y_val = y_train[:10000]\n",
    "partial_y_train = y_train[10000:]\n",
    "\n",
    "x_val=np.array(x_val)\n",
    "partial_x_train=np.array(partial_x_train)\n",
    "y_val=np.array(y_val)\n",
    "partial_y_train=np.array(partial_y_train)"
   ]
  },
  {
   "cell_type": "code",
   "execution_count": 22,
   "metadata": {},
   "outputs": [
    {
     "name": "stdout",
     "output_type": "stream",
     "text": [
      "Trial 3 Complete [00h 04m 34s]\n",
      "val_accuracy: 0.9335100054740906\n",
      "\n",
      "Best val_accuracy So Far: 0.9335100054740906\n",
      "Total elapsed time: 00h 12m 39s\n",
      "INFO:tensorflow:Oracle triggered exit\n"
     ]
    }
   ],
   "source": [
    "#Tuning network architecture\n",
    "from keras_tuner import RandomSearch\n",
    "from keras.models import Sequential \n",
    "from keras.layers import Dense \n",
    "from tensorflow.keras.layers import Flatten\n",
    "\n",
    "def build_model(hp):                 \n",
    "    model=Sequential()\n",
    "    model.add(Flatten(input_shape=(784,))) \n",
    "    for i in range(hp.Int('layers',2,5)):         \n",
    "        model.add(Dense(units=hp.Int('units'+ str(i),min_value=32,max_value=512,step=32),\n",
    "                                    activation=hp.Choice('activ'+ str(i),['relu','sigmoid','tanh'])))\n",
    "    model.add(Dense(10,activation='softmax'))    \n",
    "    model.compile(optimizer='adagrad',   \n",
    "                  loss='categorical_crossentropy',\n",
    "                  metrics=['accuracy'])\n",
    "    return model\n",
    "\n",
    "tuner=RandomSearch(build_model,\n",
    "    objective='val_accuracy',\n",
    "    max_trials=3,\n",
    "    executions_per_trial=10)\n",
    "tuner.search_space_summary()\n",
    "tuner.search(partial_x_train,partial_y_train,batch_size=64,epochs=10,validation_data=(X_test,y_test))\n"
   ]
  },
  {
   "cell_type": "code",
   "execution_count": 23,
   "metadata": {},
   "outputs": [
    {
     "name": "stdout",
     "output_type": "stream",
     "text": [
      "Results summary\n",
      "Results in ./untitled_project\n",
      "Showing 10 best trials\n",
      "Objective(name='val_accuracy', direction='max')\n",
      "Trial summary\n",
      "Hyperparameters:\n",
      "layers: 4\n",
      "units0: 416\n",
      "activ0: relu\n",
      "units1: 288\n",
      "activ1: relu\n",
      "units2: 192\n",
      "activ2: tanh\n",
      "units3: 224\n",
      "activ3: relu\n",
      "units4: 224\n",
      "activ4: tanh\n",
      "Score: 0.9335100054740906\n",
      "Trial summary\n",
      "Hyperparameters:\n",
      "layers: 3\n",
      "units0: 224\n",
      "activ0: sigmoid\n",
      "units1: 128\n",
      "activ1: tanh\n",
      "units2: 32\n",
      "activ2: relu\n",
      "Score: 0.9032799959182739\n",
      "Trial summary\n",
      "Hyperparameters:\n",
      "layers: 5\n",
      "units0: 480\n",
      "activ0: sigmoid\n",
      "units1: 448\n",
      "activ1: sigmoid\n",
      "units2: 224\n",
      "activ2: tanh\n",
      "units3: 32\n",
      "activ3: relu\n",
      "units4: 32\n",
      "activ4: relu\n",
      "Score: 0.892769992351532\n"
     ]
    }
   ],
   "source": [
    "tuner.results_summary()"
   ]
  },
  {
   "cell_type": "code",
   "execution_count": 28,
   "metadata": {},
   "outputs": [
    {
     "name": "stdout",
     "output_type": "stream",
     "text": [
      "Average training and validation accuracy: 0.9076999962329865\n",
      "Test score:  0.21896737813949585\n",
      "Test accuracy:  0.932699978351593\n"
     ]
    }
   ],
   "source": [
    "#Model 1\n",
    "model = Sequential()\n",
    "model.add(Flatten(input_shape=(784,)))\n",
    "model.add(Dense(416, activation='relu'))\n",
    "model.add(Dense(288, activation='relu'))\n",
    "model.add(Dense(192, activation='tanh'))\n",
    "model.add(Dense(224, activation='relu'))\n",
    "model.add(Dense(224, activation='tanh'))\n",
    "model.add(Dense(10, activation='softmax'))\n",
    "\n",
    "model.compile(optimizer=\"adagrad\", \n",
    "              loss='categorical_crossentropy', \n",
    "              metrics=['accuracy'])\n",
    "\n",
    "hist = model.fit(partial_x_train,partial_y_train,\n",
    "                 batch_size=64,\n",
    "                 epochs=10, \n",
    "                 verbose=0,\n",
    "                 validation_data=(x_val,y_val))\n",
    "print(\"Average training and validation accuracy:\",np.mean(hist.history['accuracy']))\n",
    "result = model.evaluate(X_test, y_test, verbose = 0)\n",
    "print(\"Test score: \", result[0])\n",
    "print(\"Test accuracy: \", result[1])"
   ]
  },
  {
   "cell_type": "code",
   "execution_count": 27,
   "metadata": {},
   "outputs": [
    {
     "name": "stdout",
     "output_type": "stream",
     "text": [
      "Average training and validation accuracy: 0.8424000084400177\n",
      "Test score:  0.3485741913318634\n",
      "Test accuracy:  0.900600016117096\n"
     ]
    }
   ],
   "source": [
    "#Model 2\n",
    "model = Sequential()\n",
    "model.add(Flatten(input_shape=(784,)))\n",
    "model.add(Dense(224, activation='sigmoid'))\n",
    "model.add(Dense(128, activation='tanh'))\n",
    "model.add(Dense(32, activation='relu'))\n",
    "model.add(Dense(10, activation='softmax'))\n",
    "\n",
    "model.compile(optimizer=\"adagrad\", \n",
    "              loss='categorical_crossentropy', \n",
    "              metrics=['accuracy'])\n",
    "\n",
    "hist = model.fit(partial_x_train,partial_y_train,\n",
    "                 batch_size=64,\n",
    "                 epochs=10, \n",
    "                 verbose=0,\n",
    "                 validation_data=(x_val,y_val))\n",
    "print(\"Average training and validation accuracy:\",np.mean(hist.history['accuracy']))\n",
    "result = model.evaluate(X_test, y_test, verbose = 0)\n",
    "print(\"Test score: \", result[0])\n",
    "print(\"Test accuracy: \", result[1])"
   ]
  },
  {
   "cell_type": "code",
   "execution_count": 24,
   "metadata": {},
   "outputs": [
    {
     "name": "stdout",
     "output_type": "stream",
     "text": [
      "Average training and validation accuracy: 0.7806379973888398\n",
      "Test score:  0.37904125452041626\n",
      "Test accuracy:  0.8928999900817871\n"
     ]
    }
   ],
   "source": [
    "#Model 3\n",
    "model = Sequential()\n",
    "model.add(Flatten(input_shape=(784,)))\n",
    "model.add(Dense(480, activation='sigmoid'))\n",
    "model.add(Dense(448, activation='sigmoid'))\n",
    "model.add(Dense(224, activation='tanh'))\n",
    "model.add(Dense(32, activation='relu'))\n",
    "model.add(Dense(32, activation='relu'))\n",
    "model.add(Dense(10, activation='softmax'))\n",
    "\n",
    "model.compile(optimizer=\"adagrad\", \n",
    "              loss='categorical_crossentropy', \n",
    "              metrics=['accuracy'])\n",
    "\n",
    "hist = model.fit(partial_x_train,partial_y_train,\n",
    "                 batch_size=64,\n",
    "                 epochs=10, \n",
    "                 verbose=0,\n",
    "                 validation_data=(x_val,y_val))\n",
    "print(\"Average training and validation accuracy:\",np.mean(hist.history['accuracy']))\n",
    "result = model.evaluate(X_test, y_test, verbose = 0)\n",
    "print(\"Test score: \", result[0])\n",
    "print(\"Test accuracy: \", result[1])"
   ]
  }
 ],
 "metadata": {
  "kernelspec": {
   "display_name": "Python 3 (ipykernel)",
   "language": "python",
   "name": "python3"
  },
  "language_info": {
   "codemirror_mode": {
    "name": "ipython",
    "version": 3
   },
   "file_extension": ".py",
   "mimetype": "text/x-python",
   "name": "python",
   "nbconvert_exporter": "python",
   "pygments_lexer": "ipython3",
   "version": "3.9.7"
  }
 },
 "nbformat": 4,
 "nbformat_minor": 2
}
